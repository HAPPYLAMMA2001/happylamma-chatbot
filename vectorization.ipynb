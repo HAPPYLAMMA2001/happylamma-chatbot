{
 "cells": [
  {
   "cell_type": "code",
   "execution_count": 1,
   "id": "a8d16290-3f6d-4f6d-a9d4-dfd90316b691",
   "metadata": {
    "tags": []
   },
   "outputs": [],
   "source": [
    "from langchain import hub\n",
    "from langchain.chains import RetrievalQA\n",
    "from langchain.callbacks.streaming_stdout import StreamingStdOutCallbackHandler\n",
    "from langchain.callbacks.manager import CallbackManager\n",
    "from langchain.llms import Ollama\n",
    "from langchain.embeddings.ollama import OllamaEmbeddings\n",
    "from langchain.vectorstores import Chroma\n",
    "from langchain.text_splitter import RecursiveCharacterTextSplitter\n",
    "from langchain.document_loaders import PyPDFLoader\n",
    "from langchain.prompts import PromptTemplate\n",
    "from langchain.memory import ConversationBufferMemory\n",
    "import chromadb.utils.embedding_functions as embedding_functions\n",
    "from langchain_community.embeddings import HuggingFaceBgeEmbeddings\n",
    "import streamlit as st\n",
    "import os\n",
    "import time\n",
    "import warnings\n",
    "warnings.filterwarnings('ignore')"
   ]
  },
  {
   "cell_type": "markdown",
   "id": "815b4b5a-9eb2-4c80-8d51-79bf97a92342",
   "metadata": {},
   "source": [
    "# Loading documents and spliting them in chunks to store them in vector DB"
   ]
  },
  {
   "cell_type": "code",
   "execution_count": 6,
   "id": "b51a1df6-5161-45da-b979-a4a508737e94",
   "metadata": {
    "tags": []
   },
   "outputs": [],
   "source": [
    "files = [\n",
    "    \"Data/Neuroscience Science of the Brain.pdf\",\n",
    "    \"Data/paper2.pdf\",\n",
    "    \"Data/paper3.pdf\",\n",
    "    \"Data/physiol-review-1973.pdf\",\n",
    "    \"Data/physiol-review-1973.pdf\",\n",
    "    \"Data/The-Brain_AUsersGuidePDFDrive.pdf\"\n",
    "]\n",
    "\n",
    "temp = []\n",
    "text_splitter = RecursiveCharacterTextSplitter(chunk_size=1500, chunk_overlap=100)\n",
    "for i in files:\n",
    "    loader = PyPDFLoader(i)\n",
    "    data = loader.load()\n",
    "    all_splits = text_splitter.split_documents(data)\n",
    "    temp = temp + all_splits"
   ]
  },
  {
   "cell_type": "code",
   "execution_count": 8,
   "id": "219e15de-1ddf-4e98-b4f5-27e04c0787b7",
   "metadata": {
    "tags": []
   },
   "outputs": [],
   "source": [
    "def getEmbeddings():\n",
    "    model_name = \"BAAI/bge-small-en\"\n",
    "    model_kwargs = {\"device\": \"cpu\"}\n",
    "    encode_kwargs = {\"normalize_embeddings\": True}\n",
    "    hf = HuggingFaceBgeEmbeddings(model_name=model_name, model_kwargs=model_kwargs, encode_kwargs=encode_kwargs)\n",
    "    return hf"
   ]
  },
  {
   "cell_type": "code",
   "execution_count": 9,
   "id": "3f3058dc-8504-4c90-bc4c-ff3971139147",
   "metadata": {
    "tags": []
   },
   "outputs": [],
   "source": [
    "persist_directory = 'database'\n",
    "\n",
    "vectorstore = Chroma.from_documents(\n",
    "    documents=all_splits, embedding=getEmbeddings(),persist_directory=persist_directory)\n",
    "\n",
    "vectorstore.persist()"
   ]
  }
 ],
 "metadata": {
  "kernelspec": {
   "display_name": "Python 3 (ipykernel)",
   "language": "python",
   "name": "python3"
  },
  "language_info": {
   "codemirror_mode": {
    "name": "ipython",
    "version": 3
   },
   "file_extension": ".py",
   "mimetype": "text/x-python",
   "name": "python",
   "nbconvert_exporter": "python",
   "pygments_lexer": "ipython3",
   "version": "3.11.5"
  }
 },
 "nbformat": 4,
 "nbformat_minor": 5
}
